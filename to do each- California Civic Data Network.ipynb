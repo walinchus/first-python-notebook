{
 "cells": [
  {
   "cell_type": "code",
   "execution_count": 1,
   "metadata": {
    "collapsed": true
   },
   "outputs": [],
   "source": [
    "import pandas as pd"
   ]
  },
  {
   "cell_type": "code",
   "execution_count": 2,
   "metadata": {
    "collapsed": true
   },
   "outputs": [],
   "source": [
    "props = pd.read_csv(\"http://www.firstpythonnotebook.org/_static/committees.csv\")"
   ]
  },
  {
   "cell_type": "code",
   "execution_count": 3,
   "metadata": {},
   "outputs": [
    {
     "data": {
      "text/html": [
       "<div>\n",
       "<style>\n",
       "    .dataframe thead tr:only-child th {\n",
       "        text-align: right;\n",
       "    }\n",
       "\n",
       "    .dataframe thead th {\n",
       "        text-align: left;\n",
       "    }\n",
       "\n",
       "    .dataframe tbody tr th {\n",
       "        vertical-align: top;\n",
       "    }\n",
       "</style>\n",
       "<table border=\"1\" class=\"dataframe\">\n",
       "  <thead>\n",
       "    <tr style=\"text-align: right;\">\n",
       "      <th></th>\n",
       "      <th>ocd_prop_id</th>\n",
       "      <th>calaccess_prop_id</th>\n",
       "      <th>ccdc_prop_id</th>\n",
       "      <th>prop_name</th>\n",
       "      <th>ccdc_committee_id</th>\n",
       "      <th>calaccess_committee_id</th>\n",
       "      <th>committee_name</th>\n",
       "      <th>committee_position</th>\n",
       "    </tr>\n",
       "  </thead>\n",
       "  <tbody>\n",
       "    <tr>\n",
       "      <th>0</th>\n",
       "      <td>ocd-contest/b51dc64d-3562-4913-a190-69f5088c22a6</td>\n",
       "      <td>1376258</td>\n",
       "      <td>70</td>\n",
       "      <td>PROPOSITION 051 - SCHOOL BONDS. FUNDING FOR K-...</td>\n",
       "      <td>382</td>\n",
       "      <td>1374469</td>\n",
       "      <td>YES ON PROPOSITION 51 - CALIFORNIANS FOR QUALI...</td>\n",
       "      <td>SUPPORT</td>\n",
       "    </tr>\n",
       "    <tr>\n",
       "      <th>1</th>\n",
       "      <td>ocd-contest/b51dc64d-3562-4913-a190-69f5088c22a6</td>\n",
       "      <td>1376258</td>\n",
       "      <td>70</td>\n",
       "      <td>PROPOSITION 051 - SCHOOL BONDS. FUNDING FOR K-...</td>\n",
       "      <td>383</td>\n",
       "      <td>1220380</td>\n",
       "      <td>COMMUNITY COLLEGE FACILITY COALITION ISSUES CO...</td>\n",
       "      <td>SUPPORT</td>\n",
       "    </tr>\n",
       "    <tr>\n",
       "      <th>2</th>\n",
       "      <td>ocd-contest/b51dc64d-3562-4913-a190-69f5088c22a6</td>\n",
       "      <td>1376258</td>\n",
       "      <td>70</td>\n",
       "      <td>PROPOSITION 051 - SCHOOL BONDS. FUNDING FOR K-...</td>\n",
       "      <td>384</td>\n",
       "      <td>1282321</td>\n",
       "      <td>TORLAKSON'S INVEST IN CALIFORNIA A BALLOT MEAS...</td>\n",
       "      <td>SUPPORT</td>\n",
       "    </tr>\n",
       "    <tr>\n",
       "      <th>3</th>\n",
       "      <td>ocd-contest/b51dc64d-3562-4913-a190-69f5088c22a6</td>\n",
       "      <td>1376258</td>\n",
       "      <td>70</td>\n",
       "      <td>PROPOSITION 051 - SCHOOL BONDS. FUNDING FOR K-...</td>\n",
       "      <td>385</td>\n",
       "      <td>1382843</td>\n",
       "      <td>CALIFORNIA TAXPAYERS AND EDUCATORS OPPOSED TO ...</td>\n",
       "      <td>OPPOSE</td>\n",
       "    </tr>\n",
       "    <tr>\n",
       "      <th>4</th>\n",
       "      <td>ocd-contest/85990193-9d6f-4600-b8e7-bf1317841d82</td>\n",
       "      <td>1362198</td>\n",
       "      <td>71</td>\n",
       "      <td>PROPOSITION 052 - STATE FEES ON HOSPITALS. FED...</td>\n",
       "      <td>386</td>\n",
       "      <td>1362973</td>\n",
       "      <td>YES ON PROPOSITION 52 - A COALITION OF CALIFOR...</td>\n",
       "      <td>SUPPORT</td>\n",
       "    </tr>\n",
       "  </tbody>\n",
       "</table>\n",
       "</div>"
      ],
      "text/plain": [
       "                                        ocd_prop_id  calaccess_prop_id  \\\n",
       "0  ocd-contest/b51dc64d-3562-4913-a190-69f5088c22a6            1376258   \n",
       "1  ocd-contest/b51dc64d-3562-4913-a190-69f5088c22a6            1376258   \n",
       "2  ocd-contest/b51dc64d-3562-4913-a190-69f5088c22a6            1376258   \n",
       "3  ocd-contest/b51dc64d-3562-4913-a190-69f5088c22a6            1376258   \n",
       "4  ocd-contest/85990193-9d6f-4600-b8e7-bf1317841d82            1362198   \n",
       "\n",
       "   ccdc_prop_id                                          prop_name  \\\n",
       "0            70  PROPOSITION 051 - SCHOOL BONDS. FUNDING FOR K-...   \n",
       "1            70  PROPOSITION 051 - SCHOOL BONDS. FUNDING FOR K-...   \n",
       "2            70  PROPOSITION 051 - SCHOOL BONDS. FUNDING FOR K-...   \n",
       "3            70  PROPOSITION 051 - SCHOOL BONDS. FUNDING FOR K-...   \n",
       "4            71  PROPOSITION 052 - STATE FEES ON HOSPITALS. FED...   \n",
       "\n",
       "   ccdc_committee_id  calaccess_committee_id  \\\n",
       "0                382                 1374469   \n",
       "1                383                 1220380   \n",
       "2                384                 1282321   \n",
       "3                385                 1382843   \n",
       "4                386                 1362973   \n",
       "\n",
       "                                      committee_name committee_position  \n",
       "0  YES ON PROPOSITION 51 - CALIFORNIANS FOR QUALI...            SUPPORT  \n",
       "1  COMMUNITY COLLEGE FACILITY COALITION ISSUES CO...            SUPPORT  \n",
       "2  TORLAKSON'S INVEST IN CALIFORNIA A BALLOT MEAS...            SUPPORT  \n",
       "3  CALIFORNIA TAXPAYERS AND EDUCATORS OPPOSED TO ...             OPPOSE  \n",
       "4  YES ON PROPOSITION 52 - A COALITION OF CALIFOR...            SUPPORT  "
      ]
     },
     "execution_count": 3,
     "metadata": {},
     "output_type": "execute_result"
    }
   ],
   "source": [
    "props.head()"
   ]
  },
  {
   "cell_type": "code",
   "execution_count": 4,
   "metadata": {},
   "outputs": [
    {
     "name": "stdout",
     "output_type": "stream",
     "text": [
      "<class 'pandas.core.frame.DataFrame'>\n",
      "RangeIndex: 102 entries, 0 to 101\n",
      "Data columns (total 8 columns):\n",
      "ocd_prop_id               102 non-null object\n",
      "calaccess_prop_id         102 non-null int64\n",
      "ccdc_prop_id              102 non-null int64\n",
      "prop_name                 102 non-null object\n",
      "ccdc_committee_id         102 non-null int64\n",
      "calaccess_committee_id    102 non-null int64\n",
      "committee_name            102 non-null object\n",
      "committee_position        102 non-null object\n",
      "dtypes: int64(4), object(4)\n",
      "memory usage: 6.4+ KB\n"
     ]
    }
   ],
   "source": [
    "props.info()"
   ]
  },
  {
   "cell_type": "code",
   "execution_count": 5,
   "metadata": {
    "collapsed": true
   },
   "outputs": [],
   "source": [
    "contribs = pd.read_csv(\"http://www.firstpythonnotebook.org/_static/contributions.csv\")"
   ]
  },
  {
   "cell_type": "code",
   "execution_count": 6,
   "metadata": {},
   "outputs": [
    {
     "data": {
      "text/html": [
       "<div>\n",
       "<style>\n",
       "    .dataframe thead tr:only-child th {\n",
       "        text-align: right;\n",
       "    }\n",
       "\n",
       "    .dataframe thead th {\n",
       "        text-align: left;\n",
       "    }\n",
       "\n",
       "    .dataframe tbody tr th {\n",
       "        vertical-align: top;\n",
       "    }\n",
       "</style>\n",
       "<table border=\"1\" class=\"dataframe\">\n",
       "  <thead>\n",
       "    <tr style=\"text-align: right;\">\n",
       "      <th></th>\n",
       "      <th>calaccess_committee_id</th>\n",
       "      <th>committee_name</th>\n",
       "      <th>calaccess_filing_id</th>\n",
       "      <th>date_received</th>\n",
       "      <th>contributor_lastname</th>\n",
       "      <th>contributor_firstname</th>\n",
       "      <th>contributor_city</th>\n",
       "      <th>contributor_state</th>\n",
       "      <th>contributor_zip</th>\n",
       "      <th>contributor_employer</th>\n",
       "      <th>contributor_occupation</th>\n",
       "      <th>contributor_is_self_employed</th>\n",
       "      <th>amount</th>\n",
       "    </tr>\n",
       "  </thead>\n",
       "  <tbody>\n",
       "    <tr>\n",
       "      <th>0</th>\n",
       "      <td>1386560</td>\n",
       "      <td>ADULT USE CAMPAIGN FOR PROPOSITION 64; THE</td>\n",
       "      <td>2083796</td>\n",
       "      <td>2016-09-18</td>\n",
       "      <td>BERGMAN</td>\n",
       "      <td>GRETCHEN</td>\n",
       "      <td>SPRING VALLEY</td>\n",
       "      <td>CA</td>\n",
       "      <td>91978</td>\n",
       "      <td>A NEW PATH</td>\n",
       "      <td>EXECUTIVE DIRECTOR</td>\n",
       "      <td>False</td>\n",
       "      <td>84.0</td>\n",
       "    </tr>\n",
       "    <tr>\n",
       "      <th>1</th>\n",
       "      <td>1386560</td>\n",
       "      <td>ADULT USE CAMPAIGN FOR PROPOSITION 64; THE</td>\n",
       "      <td>2083796</td>\n",
       "      <td>2016-09-18</td>\n",
       "      <td>KAHLE</td>\n",
       "      <td>MYRNA</td>\n",
       "      <td>SAN DIEGO</td>\n",
       "      <td>CA</td>\n",
       "      <td>92109</td>\n",
       "      <td>NATIONAL SCHOOL DISTRICT</td>\n",
       "      <td>TEACHER</td>\n",
       "      <td>False</td>\n",
       "      <td>35.0</td>\n",
       "    </tr>\n",
       "    <tr>\n",
       "      <th>2</th>\n",
       "      <td>1386560</td>\n",
       "      <td>ADULT USE CAMPAIGN FOR PROPOSITION 64; THE</td>\n",
       "      <td>2083796</td>\n",
       "      <td>2016-07-15</td>\n",
       "      <td>MCDEVITT</td>\n",
       "      <td>LEO</td>\n",
       "      <td>ESCONDIDO</td>\n",
       "      <td>CA</td>\n",
       "      <td>92025</td>\n",
       "      <td>LIFE IONIZERS</td>\n",
       "      <td>SEO/CONTENT MANAGER</td>\n",
       "      <td>False</td>\n",
       "      <td>198.0</td>\n",
       "    </tr>\n",
       "    <tr>\n",
       "      <th>3</th>\n",
       "      <td>1386560</td>\n",
       "      <td>ADULT USE CAMPAIGN FOR PROPOSITION 64; THE</td>\n",
       "      <td>2083796</td>\n",
       "      <td>2016-08-10</td>\n",
       "      <td>WARREN-SAMARIPA</td>\n",
       "      <td>STEPHANIE</td>\n",
       "      <td>SAN DIEGO</td>\n",
       "      <td>CA</td>\n",
       "      <td>92116</td>\n",
       "      <td>STEPHANIE WARREN SAMARIPA</td>\n",
       "      <td>ENTREPRENEUR</td>\n",
       "      <td>False</td>\n",
       "      <td>-50.0</td>\n",
       "    </tr>\n",
       "    <tr>\n",
       "      <th>4</th>\n",
       "      <td>1386560</td>\n",
       "      <td>ADULT USE CAMPAIGN FOR PROPOSITION 64; THE</td>\n",
       "      <td>2083796</td>\n",
       "      <td>2016-07-26</td>\n",
       "      <td>WARREN-SAMARIPA</td>\n",
       "      <td>STEPHANIE</td>\n",
       "      <td>SAN DIEGO</td>\n",
       "      <td>CA</td>\n",
       "      <td>92116</td>\n",
       "      <td>STEPHANIE WARREN SAMARIPA</td>\n",
       "      <td>ENTREPRENEUR</td>\n",
       "      <td>True</td>\n",
       "      <td>50.0</td>\n",
       "    </tr>\n",
       "  </tbody>\n",
       "</table>\n",
       "</div>"
      ],
      "text/plain": [
       "   calaccess_committee_id                              committee_name  \\\n",
       "0                 1386560  ADULT USE CAMPAIGN FOR PROPOSITION 64; THE   \n",
       "1                 1386560  ADULT USE CAMPAIGN FOR PROPOSITION 64; THE   \n",
       "2                 1386560  ADULT USE CAMPAIGN FOR PROPOSITION 64; THE   \n",
       "3                 1386560  ADULT USE CAMPAIGN FOR PROPOSITION 64; THE   \n",
       "4                 1386560  ADULT USE CAMPAIGN FOR PROPOSITION 64; THE   \n",
       "\n",
       "   calaccess_filing_id date_received contributor_lastname  \\\n",
       "0              2083796    2016-09-18              BERGMAN   \n",
       "1              2083796    2016-09-18                KAHLE   \n",
       "2              2083796    2016-07-15             MCDEVITT   \n",
       "3              2083796    2016-08-10      WARREN-SAMARIPA   \n",
       "4              2083796    2016-07-26      WARREN-SAMARIPA   \n",
       "\n",
       "  contributor_firstname contributor_city contributor_state contributor_zip  \\\n",
       "0              GRETCHEN    SPRING VALLEY                CA           91978   \n",
       "1                 MYRNA        SAN DIEGO                CA           92109   \n",
       "2                   LEO        ESCONDIDO                CA           92025   \n",
       "3             STEPHANIE        SAN DIEGO                CA           92116   \n",
       "4             STEPHANIE        SAN DIEGO                CA           92116   \n",
       "\n",
       "        contributor_employer contributor_occupation  \\\n",
       "0                 A NEW PATH     EXECUTIVE DIRECTOR   \n",
       "1   NATIONAL SCHOOL DISTRICT                TEACHER   \n",
       "2              LIFE IONIZERS    SEO/CONTENT MANAGER   \n",
       "3  STEPHANIE WARREN SAMARIPA           ENTREPRENEUR   \n",
       "4  STEPHANIE WARREN SAMARIPA           ENTREPRENEUR   \n",
       "\n",
       "   contributor_is_self_employed  amount  \n",
       "0                         False    84.0  \n",
       "1                         False    35.0  \n",
       "2                         False   198.0  \n",
       "3                         False   -50.0  \n",
       "4                          True    50.0  "
      ]
     },
     "execution_count": 6,
     "metadata": {},
     "output_type": "execute_result"
    }
   ],
   "source": [
    "contribs.head()"
   ]
  },
  {
   "cell_type": "code",
   "execution_count": 7,
   "metadata": {},
   "outputs": [
    {
     "name": "stdout",
     "output_type": "stream",
     "text": [
      "<class 'pandas.core.frame.DataFrame'>\n",
      "RangeIndex: 56379 entries, 0 to 56378\n",
      "Data columns (total 13 columns):\n",
      "calaccess_committee_id          56379 non-null int64\n",
      "committee_name                  56379 non-null object\n",
      "calaccess_filing_id             56379 non-null int64\n",
      "date_received                   56379 non-null object\n",
      "contributor_lastname            56375 non-null object\n",
      "contributor_firstname           53411 non-null object\n",
      "contributor_city                56369 non-null object\n",
      "contributor_state               56363 non-null object\n",
      "contributor_zip                 56366 non-null object\n",
      "contributor_employer            48572 non-null object\n",
      "contributor_occupation          53273 non-null object\n",
      "contributor_is_self_employed    56379 non-null bool\n",
      "amount                          56379 non-null float64\n",
      "dtypes: bool(1), float64(1), int64(2), object(9)\n",
      "memory usage: 5.2+ MB\n"
     ]
    }
   ],
   "source": [
    "contribs.info()"
   ]
  },
  {
   "cell_type": "code",
   "execution_count": 8,
   "metadata": {},
   "outputs": [
    {
     "data": {
      "text/plain": [
       "PROPOSITION 057 - CRIMINAL SENTENCES. JUVENILE CRIMINAL PROCEEDINGS AND SENTENCING. INITIATIVE CONSTITUTIONAL AMENDMENT AND STATUTE.                           13\n",
       "PROPOSITION 056 - CIGARETTE TAX TO FUND HEALTHCARE, TOBACCO USE PREVENTION, RESEARCH, AND LAW ENFORCEMENT. INITIATIVE CONSTITUTIONAL AMENDMENT AND STATUTE.    12\n",
       "PROPOSITION 064- MARIJUANA LEGALIZATION. INITIATIVE STATUTE.                                                                                                   11\n",
       "PROPOSITION 066- DEATH PENALTY. PROCEDURES. INITIATIVE STATUTE.                                                                                                 9\n",
       "PROPOSITION 055 - TAX EXTENSION TO FUND EDUCATION AND HEALTHCARE. INITIATIVE CONSTITUTIONAL AMENDMENT.                                                          8\n",
       "PROPOSITION 067- REFERENDUM TO OVERTURN BAN ON SINGLE-USE PLASTIC BAGS.                                                                                         7\n",
       "PROPOSITION 062- DEATH PENALTY. INITIATIVE STATUTE.                                                                                                             7\n",
       "PROPOSITION 059- SB 254 (CHAPTER 20, STATUTES OF 2016), ALLEN. CAMPAIGN FINANCE: VOTER INSTRUCTION                                                              6\n",
       "PROPOSITION 053 - REVENUE BONDS. STATEWIDE VOTER APPROVAL. INITIATIVE CONSTITUTIONAL AMENDMENT.                                                                 4\n",
       "PROPOSITION 054 - LEGISLATURE. LEGISLATION AND PROCEEDINGS. INITIATIVE CONSTITUTIONAL AMENDMENT AND STATUTE.                                                    4\n",
       "PROPOSITION 058 - SB 1174 (CHAPTER 753, STATUTES OF 2014), LARA. ENGLISH LANGUAGE EDUCATION                                                                     4\n",
       "PROPOSITION 063- FIREARMS. AMMUNITION SALES. INTIATIVE STATUTE.                                                                                                 4\n",
       "PROPOSITION 051 - SCHOOL BONDS. FUNDING FOR K-12 SCHOOL AND COMMUNITY COLLEGE FACILITIES. INITIATIVE STATUTORY AMENDMENT.                                       4\n",
       "PROPOSITION 052 - STATE FEES ON HOSPITALS. FEDERAL MEDI-CAL MATCHING FUNDS. INITIATIVE STATUTORY AND CONSTITUTIONAL AMENDMENT.                                  3\n",
       "PROPOSITION 061- STATE PRESCRIPTION DRUG PURCHASES. PRICING STANDARDS. INITIATIVE STATUTE.                                                                      3\n",
       "PROPOSITION 060- ADULT FILMS. CONDOMS. HEALTH REQUIREMENTS. INITIATIVE STATUTE.                                                                                 2\n",
       "PROPOSITION 065- CARRY-OUT BAGS. CHARGES. INITIATIVE STATUTE.                                                                                                   1\n",
       "Name: prop_name, dtype: int64"
      ]
     },
     "execution_count": 8,
     "metadata": {},
     "output_type": "execute_result"
    }
   ],
   "source": [
    "props.prop_name.value_counts()"
   ]
  },
  {
   "cell_type": "code",
   "execution_count": 9,
   "metadata": {},
   "outputs": [
    {
     "data": {
      "text/html": [
       "<div>\n",
       "<style>\n",
       "    .dataframe thead tr:only-child th {\n",
       "        text-align: right;\n",
       "    }\n",
       "\n",
       "    .dataframe thead th {\n",
       "        text-align: left;\n",
       "    }\n",
       "\n",
       "    .dataframe tbody tr th {\n",
       "        vertical-align: top;\n",
       "    }\n",
       "</style>\n",
       "<table border=\"1\" class=\"dataframe\">\n",
       "  <thead>\n",
       "    <tr style=\"text-align: right;\">\n",
       "      <th></th>\n",
       "      <th>index</th>\n",
       "      <th>prop_name</th>\n",
       "    </tr>\n",
       "  </thead>\n",
       "  <tbody>\n",
       "    <tr>\n",
       "      <th>0</th>\n",
       "      <td>PROPOSITION 057 - CRIMINAL SENTENCES. JUVENILE...</td>\n",
       "      <td>13</td>\n",
       "    </tr>\n",
       "    <tr>\n",
       "      <th>1</th>\n",
       "      <td>PROPOSITION 056 - CIGARETTE TAX TO FUND HEALTH...</td>\n",
       "      <td>12</td>\n",
       "    </tr>\n",
       "    <tr>\n",
       "      <th>2</th>\n",
       "      <td>PROPOSITION 064- MARIJUANA LEGALIZATION. INITI...</td>\n",
       "      <td>11</td>\n",
       "    </tr>\n",
       "    <tr>\n",
       "      <th>3</th>\n",
       "      <td>PROPOSITION 066- DEATH PENALTY. PROCEDURES. IN...</td>\n",
       "      <td>9</td>\n",
       "    </tr>\n",
       "    <tr>\n",
       "      <th>4</th>\n",
       "      <td>PROPOSITION 055 - TAX EXTENSION TO FUND EDUCAT...</td>\n",
       "      <td>8</td>\n",
       "    </tr>\n",
       "    <tr>\n",
       "      <th>5</th>\n",
       "      <td>PROPOSITION 067- REFERENDUM TO OVERTURN BAN ON...</td>\n",
       "      <td>7</td>\n",
       "    </tr>\n",
       "    <tr>\n",
       "      <th>6</th>\n",
       "      <td>PROPOSITION 062- DEATH PENALTY. INITIATIVE STA...</td>\n",
       "      <td>7</td>\n",
       "    </tr>\n",
       "    <tr>\n",
       "      <th>7</th>\n",
       "      <td>PROPOSITION 059- SB 254 (CHAPTER 20, STATUTES ...</td>\n",
       "      <td>6</td>\n",
       "    </tr>\n",
       "    <tr>\n",
       "      <th>8</th>\n",
       "      <td>PROPOSITION 053 - REVENUE BONDS. STATEWIDE VOT...</td>\n",
       "      <td>4</td>\n",
       "    </tr>\n",
       "    <tr>\n",
       "      <th>9</th>\n",
       "      <td>PROPOSITION 054 - LEGISLATURE. LEGISLATION AND...</td>\n",
       "      <td>4</td>\n",
       "    </tr>\n",
       "    <tr>\n",
       "      <th>10</th>\n",
       "      <td>PROPOSITION 058 - SB 1174 (CHAPTER 753, STATUT...</td>\n",
       "      <td>4</td>\n",
       "    </tr>\n",
       "    <tr>\n",
       "      <th>11</th>\n",
       "      <td>PROPOSITION 063- FIREARMS. AMMUNITION SALES. I...</td>\n",
       "      <td>4</td>\n",
       "    </tr>\n",
       "    <tr>\n",
       "      <th>12</th>\n",
       "      <td>PROPOSITION 051 - SCHOOL BONDS. FUNDING FOR K-...</td>\n",
       "      <td>4</td>\n",
       "    </tr>\n",
       "    <tr>\n",
       "      <th>13</th>\n",
       "      <td>PROPOSITION 052 - STATE FEES ON HOSPITALS. FED...</td>\n",
       "      <td>3</td>\n",
       "    </tr>\n",
       "    <tr>\n",
       "      <th>14</th>\n",
       "      <td>PROPOSITION 061- STATE PRESCRIPTION DRUG PURCH...</td>\n",
       "      <td>3</td>\n",
       "    </tr>\n",
       "    <tr>\n",
       "      <th>15</th>\n",
       "      <td>PROPOSITION 060- ADULT FILMS. CONDOMS. HEALTH ...</td>\n",
       "      <td>2</td>\n",
       "    </tr>\n",
       "    <tr>\n",
       "      <th>16</th>\n",
       "      <td>PROPOSITION 065- CARRY-OUT BAGS. CHARGES. INIT...</td>\n",
       "      <td>1</td>\n",
       "    </tr>\n",
       "  </tbody>\n",
       "</table>\n",
       "</div>"
      ],
      "text/plain": [
       "                                                index  prop_name\n",
       "0   PROPOSITION 057 - CRIMINAL SENTENCES. JUVENILE...         13\n",
       "1   PROPOSITION 056 - CIGARETTE TAX TO FUND HEALTH...         12\n",
       "2   PROPOSITION 064- MARIJUANA LEGALIZATION. INITI...         11\n",
       "3   PROPOSITION 066- DEATH PENALTY. PROCEDURES. IN...          9\n",
       "4   PROPOSITION 055 - TAX EXTENSION TO FUND EDUCAT...          8\n",
       "5   PROPOSITION 067- REFERENDUM TO OVERTURN BAN ON...          7\n",
       "6   PROPOSITION 062- DEATH PENALTY. INITIATIVE STA...          7\n",
       "7   PROPOSITION 059- SB 254 (CHAPTER 20, STATUTES ...          6\n",
       "8   PROPOSITION 053 - REVENUE BONDS. STATEWIDE VOT...          4\n",
       "9   PROPOSITION 054 - LEGISLATURE. LEGISLATION AND...          4\n",
       "10  PROPOSITION 058 - SB 1174 (CHAPTER 753, STATUT...          4\n",
       "11  PROPOSITION 063- FIREARMS. AMMUNITION SALES. I...          4\n",
       "12  PROPOSITION 051 - SCHOOL BONDS. FUNDING FOR K-...          4\n",
       "13  PROPOSITION 052 - STATE FEES ON HOSPITALS. FED...          3\n",
       "14  PROPOSITION 061- STATE PRESCRIPTION DRUG PURCH...          3\n",
       "15  PROPOSITION 060- ADULT FILMS. CONDOMS. HEALTH ...          2\n",
       "16  PROPOSITION 065- CARRY-OUT BAGS. CHARGES. INIT...          1"
      ]
     },
     "execution_count": 9,
     "metadata": {},
     "output_type": "execute_result"
    }
   ],
   "source": [
    "props.prop_name.value_counts().reset_index()"
   ]
  },
  {
   "cell_type": "code",
   "execution_count": 31,
   "metadata": {
    "collapsed": true
   },
   "outputs": [],
   "source": [
    "prop = props.prop_name"
   ]
  },
  {
   "cell_type": "code",
   "execution_count": 33,
   "metadata": {},
   "outputs": [
    {
     "ename": "SyntaxError",
     "evalue": "unexpected EOF while parsing (<ipython-input-33-dc83c907861a>, line 1)",
     "output_type": "error",
     "traceback": [
      "\u001b[0;36m  File \u001b[0;32m\"<ipython-input-33-dc83c907861a>\"\u001b[0;36m, line \u001b[0;32m1\u001b[0m\n\u001b[0;31m    for x in range (0,17):\u001b[0m\n\u001b[0m                          ^\u001b[0m\n\u001b[0;31mSyntaxError\u001b[0m\u001b[0;31m:\u001b[0m unexpected EOF while parsing\n"
     ]
    }
   ],
   "source": [
    "for x in range (x,17):\n",
    "    prop[x] = "
   ]
  },
  {
   "cell_type": "code",
   "execution_count": 11,
   "metadata": {
    "collapsed": true
   },
   "outputs": [],
   "source": [
    "    "
   ]
  },
  {
   "cell_type": "code",
   "execution_count": null,
   "metadata": {
    "collapsed": true
   },
   "outputs": [],
   "source": []
  },
  {
   "cell_type": "code",
   "execution_count": 12,
   "metadata": {},
   "outputs": [
    {
     "data": {
      "text/plain": [
       "0    PROPOSITION 051 - SCHOOL BONDS. FUNDING FOR K-...\n",
       "1    PROPOSITION 051 - SCHOOL BONDS. FUNDING FOR K-...\n",
       "2    PROPOSITION 051 - SCHOOL BONDS. FUNDING FOR K-...\n",
       "3    PROPOSITION 051 - SCHOOL BONDS. FUNDING FOR K-...\n",
       "4    PROPOSITION 052 - STATE FEES ON HOSPITALS. FED...\n",
       "Name: prop_name, dtype: object"
      ]
     },
     "execution_count": 12,
     "metadata": {},
     "output_type": "execute_result"
    }
   ],
   "source": [
    "    prop.head()"
   ]
  },
  {
   "cell_type": "code",
   "execution_count": 13,
   "metadata": {},
   "outputs": [
    {
     "ename": "AttributeError",
     "evalue": "'Series' object has no attribute 'info'",
     "output_type": "error",
     "traceback": [
      "\u001b[0;31m---------------------------------------------------------------------------\u001b[0m",
      "\u001b[0;31mAttributeError\u001b[0m                            Traceback (most recent call last)",
      "\u001b[0;32m<ipython-input-13-956a4950792d>\u001b[0m in \u001b[0;36m<module>\u001b[0;34m()\u001b[0m\n\u001b[0;32m----> 1\u001b[0;31m \u001b[0mprop\u001b[0m\u001b[0;34m.\u001b[0m\u001b[0minfo\u001b[0m\u001b[0;34m(\u001b[0m\u001b[0;34m)\u001b[0m\u001b[0;34m\u001b[0m\u001b[0m\n\u001b[0m",
      "\u001b[0;32m/Users/Lucia/Code/first-python-notebook/lib/python2.7/site-packages/pandas/core/generic.pyc\u001b[0m in \u001b[0;36m__getattr__\u001b[0;34m(self, name)\u001b[0m\n\u001b[1;32m   2968\u001b[0m             \u001b[0;32mif\u001b[0m \u001b[0mname\u001b[0m \u001b[0;32min\u001b[0m \u001b[0mself\u001b[0m\u001b[0;34m.\u001b[0m\u001b[0m_info_axis\u001b[0m\u001b[0;34m:\u001b[0m\u001b[0;34m\u001b[0m\u001b[0m\n\u001b[1;32m   2969\u001b[0m                 \u001b[0;32mreturn\u001b[0m \u001b[0mself\u001b[0m\u001b[0;34m[\u001b[0m\u001b[0mname\u001b[0m\u001b[0;34m]\u001b[0m\u001b[0;34m\u001b[0m\u001b[0m\n\u001b[0;32m-> 2970\u001b[0;31m             \u001b[0;32mreturn\u001b[0m \u001b[0mobject\u001b[0m\u001b[0;34m.\u001b[0m\u001b[0m__getattribute__\u001b[0m\u001b[0;34m(\u001b[0m\u001b[0mself\u001b[0m\u001b[0;34m,\u001b[0m \u001b[0mname\u001b[0m\u001b[0;34m)\u001b[0m\u001b[0;34m\u001b[0m\u001b[0m\n\u001b[0m\u001b[1;32m   2971\u001b[0m \u001b[0;34m\u001b[0m\u001b[0m\n\u001b[1;32m   2972\u001b[0m     \u001b[0;32mdef\u001b[0m \u001b[0m__setattr__\u001b[0m\u001b[0;34m(\u001b[0m\u001b[0mself\u001b[0m\u001b[0;34m,\u001b[0m \u001b[0mname\u001b[0m\u001b[0;34m,\u001b[0m \u001b[0mvalue\u001b[0m\u001b[0;34m)\u001b[0m\u001b[0;34m:\u001b[0m\u001b[0;34m\u001b[0m\u001b[0m\n",
      "\u001b[0;31mAttributeError\u001b[0m: 'Series' object has no attribute 'info'"
     ]
    }
   ],
   "source": [
    "    prop.info()"
   ]
  },
  {
   "cell_type": "code",
   "execution_count": 14,
   "metadata": {},
   "outputs": [
    {
     "name": "stdout",
     "output_type": "stream",
     "text": [
      "<class 'pandas.core.frame.DataFrame'>\n",
      "RangeIndex: 56379 entries, 0 to 56378\n",
      "Data columns (total 13 columns):\n",
      "calaccess_committee_id          56379 non-null int64\n",
      "committee_name                  56379 non-null object\n",
      "calaccess_filing_id             56379 non-null int64\n",
      "date_received                   56379 non-null object\n",
      "contributor_lastname            56375 non-null object\n",
      "contributor_firstname           53411 non-null object\n",
      "contributor_city                56369 non-null object\n",
      "contributor_state               56363 non-null object\n",
      "contributor_zip                 56366 non-null object\n",
      "contributor_employer            48572 non-null object\n",
      "contributor_occupation          53273 non-null object\n",
      "contributor_is_self_employed    56379 non-null bool\n",
      "amount                          56379 non-null float64\n",
      "dtypes: bool(1), float64(1), int64(2), object(9)\n",
      "memory usage: 5.2+ MB\n"
     ]
    }
   ],
   "source": [
    "    contribs.info()"
   ]
  },
  {
   "cell_type": "code",
   "execution_count": 15,
   "metadata": {},
   "outputs": [
    {
     "name": "stdout",
     "output_type": "stream",
     "text": [
      "<class 'pandas.core.frame.DataFrame'>\n",
      "RangeIndex: 102 entries, 0 to 101\n",
      "Data columns (total 8 columns):\n",
      "ocd_prop_id               102 non-null object\n",
      "calaccess_prop_id         102 non-null int64\n",
      "ccdc_prop_id              102 non-null int64\n",
      "prop_name                 102 non-null object\n",
      "ccdc_committee_id         102 non-null int64\n",
      "calaccess_committee_id    102 non-null int64\n",
      "committee_name            102 non-null object\n",
      "committee_position        102 non-null object\n",
      "dtypes: int64(4), object(4)\n",
      "memory usage: 6.4+ KB\n"
     ]
    }
   ],
   "source": [
    "    props.info()"
   ]
  },
  {
   "cell_type": "code",
   "execution_count": 16,
   "metadata": {},
   "outputs": [
    {
     "ename": "ValueError",
     "evalue": "can not merge DataFrame with instance of type <class 'pandas.core.series.Series'>",
     "output_type": "error",
     "traceback": [
      "\u001b[0;31m---------------------------------------------------------------------------\u001b[0m",
      "\u001b[0;31mValueError\u001b[0m                                Traceback (most recent call last)",
      "\u001b[0;32m<ipython-input-16-d3d27f1d6222>\u001b[0m in \u001b[0;36m<module>\u001b[0;34m()\u001b[0m\n\u001b[0;32m----> 1\u001b[0;31m \u001b[0mmerged\u001b[0m \u001b[0;34m=\u001b[0m \u001b[0mpd\u001b[0m\u001b[0;34m.\u001b[0m\u001b[0mmerge\u001b[0m\u001b[0;34m(\u001b[0m\u001b[0mprop\u001b[0m\u001b[0;34m,\u001b[0m \u001b[0mcontribs\u001b[0m\u001b[0;34m,\u001b[0m \u001b[0mon\u001b[0m\u001b[0;34m=\u001b[0m\u001b[0;34m\"calaccess_committee_id\"\u001b[0m\u001b[0;34m)\u001b[0m\u001b[0;34m\u001b[0m\u001b[0m\n\u001b[0m",
      "\u001b[0;32m/Users/Lucia/Code/first-python-notebook/lib/python2.7/site-packages/pandas/core/reshape/merge.pyc\u001b[0m in \u001b[0;36mmerge\u001b[0;34m(left, right, how, on, left_on, right_on, left_index, right_index, sort, suffixes, copy, indicator)\u001b[0m\n\u001b[1;32m     51\u001b[0m                          \u001b[0mright_on\u001b[0m\u001b[0;34m=\u001b[0m\u001b[0mright_on\u001b[0m\u001b[0;34m,\u001b[0m \u001b[0mleft_index\u001b[0m\u001b[0;34m=\u001b[0m\u001b[0mleft_index\u001b[0m\u001b[0;34m,\u001b[0m\u001b[0;34m\u001b[0m\u001b[0m\n\u001b[1;32m     52\u001b[0m                          \u001b[0mright_index\u001b[0m\u001b[0;34m=\u001b[0m\u001b[0mright_index\u001b[0m\u001b[0;34m,\u001b[0m \u001b[0msort\u001b[0m\u001b[0;34m=\u001b[0m\u001b[0msort\u001b[0m\u001b[0;34m,\u001b[0m \u001b[0msuffixes\u001b[0m\u001b[0;34m=\u001b[0m\u001b[0msuffixes\u001b[0m\u001b[0;34m,\u001b[0m\u001b[0;34m\u001b[0m\u001b[0m\n\u001b[0;32m---> 53\u001b[0;31m                          copy=copy, indicator=indicator)\n\u001b[0m\u001b[1;32m     54\u001b[0m     \u001b[0;32mreturn\u001b[0m \u001b[0mop\u001b[0m\u001b[0;34m.\u001b[0m\u001b[0mget_result\u001b[0m\u001b[0;34m(\u001b[0m\u001b[0;34m)\u001b[0m\u001b[0;34m\u001b[0m\u001b[0m\n\u001b[1;32m     55\u001b[0m \u001b[0;34m\u001b[0m\u001b[0m\n",
      "\u001b[0;32m/Users/Lucia/Code/first-python-notebook/lib/python2.7/site-packages/pandas/core/reshape/merge.pyc\u001b[0m in \u001b[0;36m__init__\u001b[0;34m(self, left, right, how, on, left_on, right_on, axis, left_index, right_index, sort, suffixes, copy, indicator)\u001b[0m\n\u001b[1;32m    529\u001b[0m             raise ValueError(\n\u001b[1;32m    530\u001b[0m                 \u001b[0;34m'can not merge DataFrame with instance of '\u001b[0m\u001b[0;34m\u001b[0m\u001b[0m\n\u001b[0;32m--> 531\u001b[0;31m                 'type {0}'.format(type(left)))\n\u001b[0m\u001b[1;32m    532\u001b[0m         \u001b[0;32mif\u001b[0m \u001b[0;32mnot\u001b[0m \u001b[0misinstance\u001b[0m\u001b[0;34m(\u001b[0m\u001b[0mright\u001b[0m\u001b[0;34m,\u001b[0m \u001b[0mDataFrame\u001b[0m\u001b[0;34m)\u001b[0m\u001b[0;34m:\u001b[0m\u001b[0;34m\u001b[0m\u001b[0m\n\u001b[1;32m    533\u001b[0m             raise ValueError(\n",
      "\u001b[0;31mValueError\u001b[0m: can not merge DataFrame with instance of type <class 'pandas.core.series.Series'>"
     ]
    }
   ],
   "source": [
    "    merged = pd.merge(prop, contribs, on=\"calaccess_committee_id\")"
   ]
  },
  {
   "cell_type": "code",
   "execution_count": 17,
   "metadata": {},
   "outputs": [
    {
     "ename": "NameError",
     "evalue": "name 'merged' is not defined",
     "output_type": "error",
     "traceback": [
      "\u001b[0;31m---------------------------------------------------------------------------\u001b[0m",
      "\u001b[0;31mNameError\u001b[0m                                 Traceback (most recent call last)",
      "\u001b[0;32m<ipython-input-17-621b4cd00e66>\u001b[0m in \u001b[0;36m<module>\u001b[0;34m()\u001b[0m\n\u001b[0;32m----> 1\u001b[0;31m \u001b[0mmerged\u001b[0m\u001b[0;34m.\u001b[0m\u001b[0mhead\u001b[0m\u001b[0;34m(\u001b[0m\u001b[0;34m)\u001b[0m\u001b[0;34m\u001b[0m\u001b[0m\n\u001b[0m",
      "\u001b[0;31mNameError\u001b[0m: name 'merged' is not defined"
     ]
    }
   ],
   "source": [
    "    merged.head()"
   ]
  },
  {
   "cell_type": "code",
   "execution_count": 18,
   "metadata": {},
   "outputs": [
    {
     "ename": "NameError",
     "evalue": "name 'merged' is not defined",
     "output_type": "error",
     "traceback": [
      "\u001b[0;31m---------------------------------------------------------------------------\u001b[0m",
      "\u001b[0;31mNameError\u001b[0m                                 Traceback (most recent call last)",
      "\u001b[0;32m<ipython-input-18-c11111faea1f>\u001b[0m in \u001b[0;36m<module>\u001b[0;34m()\u001b[0m\n\u001b[0;32m----> 1\u001b[0;31m \u001b[0mmerged\u001b[0m\u001b[0;34m.\u001b[0m\u001b[0minfo\u001b[0m\u001b[0;34m(\u001b[0m\u001b[0;34m)\u001b[0m\u001b[0;34m\u001b[0m\u001b[0m\n\u001b[0m",
      "\u001b[0;31mNameError\u001b[0m: name 'merged' is not defined"
     ]
    }
   ],
   "source": [
    "    merged.info()"
   ]
  },
  {
   "cell_type": "code",
   "execution_count": 19,
   "metadata": {},
   "outputs": [
    {
     "ename": "NameError",
     "evalue": "name 'merged' is not defined",
     "output_type": "error",
     "traceback": [
      "\u001b[0;31m---------------------------------------------------------------------------\u001b[0m",
      "\u001b[0;31mNameError\u001b[0m                                 Traceback (most recent call last)",
      "\u001b[0;32m<ipython-input-19-c7e50d74717d>\u001b[0m in \u001b[0;36m<module>\u001b[0;34m()\u001b[0m\n\u001b[0;32m----> 1\u001b[0;31m \u001b[0msupport\u001b[0m \u001b[0;34m=\u001b[0m \u001b[0mmerged\u001b[0m\u001b[0;34m[\u001b[0m\u001b[0mmerged\u001b[0m\u001b[0;34m.\u001b[0m\u001b[0mcommittee_position\u001b[0m \u001b[0;34m==\u001b[0m \u001b[0;34m'SUPPORT'\u001b[0m\u001b[0;34m]\u001b[0m\u001b[0;34m\u001b[0m\u001b[0m\n\u001b[0m",
      "\u001b[0;31mNameError\u001b[0m: name 'merged' is not defined"
     ]
    }
   ],
   "source": [
    "    support = merged[merged.committee_position == 'SUPPORT']"
   ]
  },
  {
   "cell_type": "code",
   "execution_count": 20,
   "metadata": {},
   "outputs": [
    {
     "ename": "NameError",
     "evalue": "name 'merged' is not defined",
     "output_type": "error",
     "traceback": [
      "\u001b[0;31m---------------------------------------------------------------------------\u001b[0m",
      "\u001b[0;31mNameError\u001b[0m                                 Traceback (most recent call last)",
      "\u001b[0;32m<ipython-input-20-90a0e1bdde17>\u001b[0m in \u001b[0;36m<module>\u001b[0;34m()\u001b[0m\n\u001b[0;32m----> 1\u001b[0;31m \u001b[0moppose\u001b[0m \u001b[0;34m=\u001b[0m \u001b[0mmerged\u001b[0m\u001b[0;34m[\u001b[0m\u001b[0mmerged\u001b[0m\u001b[0;34m.\u001b[0m\u001b[0mcommittee_position\u001b[0m \u001b[0;34m==\u001b[0m \u001b[0;34m'OPPOSE'\u001b[0m\u001b[0;34m]\u001b[0m\u001b[0;34m\u001b[0m\u001b[0m\n\u001b[0m",
      "\u001b[0;31mNameError\u001b[0m: name 'merged' is not defined"
     ]
    }
   ],
   "source": [
    "    oppose = merged[merged.committee_position == 'OPPOSE']"
   ]
  },
  {
   "cell_type": "code",
   "execution_count": 21,
   "metadata": {},
   "outputs": [
    {
     "ename": "NameError",
     "evalue": "name 'oppose' is not defined",
     "output_type": "error",
     "traceback": [
      "\u001b[0;31m---------------------------------------------------------------------------\u001b[0m",
      "\u001b[0;31mNameError\u001b[0m                                 Traceback (most recent call last)",
      "\u001b[0;32m<ipython-input-21-2d4a0fb57eae>\u001b[0m in \u001b[0;36m<module>\u001b[0;34m()\u001b[0m\n\u001b[0;32m----> 1\u001b[0;31m \u001b[0moppose\u001b[0m\u001b[0;34m.\u001b[0m\u001b[0mamount\u001b[0m\u001b[0;34m.\u001b[0m\u001b[0msum\u001b[0m\u001b[0;34m(\u001b[0m\u001b[0;34m)\u001b[0m\u001b[0;34m\u001b[0m\u001b[0m\n\u001b[0m",
      "\u001b[0;31mNameError\u001b[0m: name 'oppose' is not defined"
     ]
    }
   ],
   "source": [
    "    oppose.amount.sum()"
   ]
  },
  {
   "cell_type": "code",
   "execution_count": 22,
   "metadata": {},
   "outputs": [
    {
     "ename": "NameError",
     "evalue": "name 'support' is not defined",
     "output_type": "error",
     "traceback": [
      "\u001b[0;31m---------------------------------------------------------------------------\u001b[0m",
      "\u001b[0;31mNameError\u001b[0m                                 Traceback (most recent call last)",
      "\u001b[0;32m<ipython-input-22-232727740287>\u001b[0m in \u001b[0;36m<module>\u001b[0;34m()\u001b[0m\n\u001b[0;32m----> 1\u001b[0;31m \u001b[0msupport\u001b[0m\u001b[0;34m.\u001b[0m\u001b[0mamount\u001b[0m\u001b[0;34m.\u001b[0m\u001b[0msum\u001b[0m\u001b[0;34m(\u001b[0m\u001b[0;34m)\u001b[0m\u001b[0;34m\u001b[0m\u001b[0m\n\u001b[0m",
      "\u001b[0;31mNameError\u001b[0m: name 'support' is not defined"
     ]
    }
   ],
   "source": [
    "    support.amount.sum()"
   ]
  },
  {
   "cell_type": "code",
   "execution_count": 23,
   "metadata": {},
   "outputs": [
    {
     "ename": "NameError",
     "evalue": "name 'support' is not defined",
     "output_type": "error",
     "traceback": [
      "\u001b[0;31m---------------------------------------------------------------------------\u001b[0m",
      "\u001b[0;31mNameError\u001b[0m                                 Traceback (most recent call last)",
      "\u001b[0;32m<ipython-input-23-f8711bc9ded9>\u001b[0m in \u001b[0;36m<module>\u001b[0;34m()\u001b[0m\n\u001b[0;32m----> 1\u001b[0;31m \u001b[0msupport\u001b[0m\u001b[0;34m.\u001b[0m\u001b[0mamount\u001b[0m\u001b[0;34m.\u001b[0m\u001b[0msum\u001b[0m\u001b[0;34m(\u001b[0m\u001b[0;34m)\u001b[0m \u001b[0;34m/\u001b[0m \u001b[0mmerged\u001b[0m\u001b[0;34m.\u001b[0m\u001b[0mamount\u001b[0m\u001b[0;34m.\u001b[0m\u001b[0msum\u001b[0m\u001b[0;34m(\u001b[0m\u001b[0;34m)\u001b[0m\u001b[0;34m\u001b[0m\u001b[0m\n\u001b[0m",
      "\u001b[0;31mNameError\u001b[0m: name 'support' is not defined"
     ]
    }
   ],
   "source": [
    "    support.amount.sum() / merged.amount.sum()"
   ]
  },
  {
   "cell_type": "code",
   "execution_count": 24,
   "metadata": {},
   "outputs": [
    {
     "ename": "NameError",
     "evalue": "name 'merged' is not defined",
     "output_type": "error",
     "traceback": [
      "\u001b[0;31m---------------------------------------------------------------------------\u001b[0m",
      "\u001b[0;31mNameError\u001b[0m                                 Traceback (most recent call last)",
      "\u001b[0;32m<ipython-input-24-2319695ba7dd>\u001b[0m in \u001b[0;36m<module>\u001b[0;34m()\u001b[0m\n\u001b[0;32m----> 1\u001b[0;31m \u001b[0mmerged\u001b[0m\u001b[0;34m.\u001b[0m\u001b[0msort_values\u001b[0m\u001b[0;34m(\u001b[0m\u001b[0;34m\"amount\"\u001b[0m\u001b[0;34m,\u001b[0m \u001b[0mascending\u001b[0m\u001b[0;34m=\u001b[0m\u001b[0mFalse\u001b[0m\u001b[0;34m)\u001b[0m\u001b[0;34m\u001b[0m\u001b[0m\n\u001b[0m",
      "\u001b[0;31mNameError\u001b[0m: name 'merged' is not defined"
     ]
    }
   ],
   "source": [
    "    merged.sort_values(\"amount\", ascending=False)"
   ]
  },
  {
   "cell_type": "code",
   "execution_count": 25,
   "metadata": {},
   "outputs": [
    {
     "ename": "NameError",
     "evalue": "name 'support' is not defined",
     "output_type": "error",
     "traceback": [
      "\u001b[0;31m---------------------------------------------------------------------------\u001b[0m",
      "\u001b[0;31mNameError\u001b[0m                                 Traceback (most recent call last)",
      "\u001b[0;32m<ipython-input-25-540360468b7f>\u001b[0m in \u001b[0;36m<module>\u001b[0;34m()\u001b[0m\n\u001b[0;32m----> 1\u001b[0;31m \u001b[0msupport\u001b[0m\u001b[0;34m.\u001b[0m\u001b[0msort_values\u001b[0m\u001b[0;34m(\u001b[0m\u001b[0;34m\"amount\"\u001b[0m\u001b[0;34m,\u001b[0m \u001b[0mascending\u001b[0m\u001b[0;34m=\u001b[0m\u001b[0mFalse\u001b[0m\u001b[0;34m)\u001b[0m\u001b[0;34m.\u001b[0m\u001b[0mhead\u001b[0m\u001b[0;34m(\u001b[0m\u001b[0;34m)\u001b[0m\u001b[0;34m\u001b[0m\u001b[0m\n\u001b[0m",
      "\u001b[0;31mNameError\u001b[0m: name 'support' is not defined"
     ]
    }
   ],
   "source": [
    "    support.sort_values(\"amount\", ascending=False).head()"
   ]
  },
  {
   "cell_type": "code",
   "execution_count": 26,
   "metadata": {},
   "outputs": [
    {
     "ename": "NameError",
     "evalue": "name 'oppose' is not defined",
     "output_type": "error",
     "traceback": [
      "\u001b[0;31m---------------------------------------------------------------------------\u001b[0m",
      "\u001b[0;31mNameError\u001b[0m                                 Traceback (most recent call last)",
      "\u001b[0;32m<ipython-input-26-8020aa67fca1>\u001b[0m in \u001b[0;36m<module>\u001b[0;34m()\u001b[0m\n\u001b[0;32m----> 1\u001b[0;31m \u001b[0moppose\u001b[0m\u001b[0;34m.\u001b[0m\u001b[0msort_values\u001b[0m\u001b[0;34m(\u001b[0m\u001b[0;34m\"amount\"\u001b[0m\u001b[0;34m,\u001b[0m \u001b[0mascending\u001b[0m\u001b[0;34m=\u001b[0m\u001b[0mFalse\u001b[0m\u001b[0;34m)\u001b[0m\u001b[0;34m.\u001b[0m\u001b[0mhead\u001b[0m\u001b[0;34m(\u001b[0m\u001b[0;34m)\u001b[0m\u001b[0;34m\u001b[0m\u001b[0m\n\u001b[0m",
      "\u001b[0;31mNameError\u001b[0m: name 'oppose' is not defined"
     ]
    }
   ],
   "source": [
    "    oppose.sort_values(\"amount\", ascending=False).head()"
   ]
  },
  {
   "cell_type": "code",
   "execution_count": 27,
   "metadata": {},
   "outputs": [
    {
     "ename": "NameError",
     "evalue": "name 'merged' is not defined",
     "output_type": "error",
     "traceback": [
      "\u001b[0;31m---------------------------------------------------------------------------\u001b[0m",
      "\u001b[0;31mNameError\u001b[0m                                 Traceback (most recent call last)",
      "\u001b[0;32m<ipython-input-27-d0de41bf365a>\u001b[0m in \u001b[0;36m<module>\u001b[0;34m()\u001b[0m\n\u001b[0;32m----> 1\u001b[0;31m \u001b[0mmerged\u001b[0m\u001b[0;34m.\u001b[0m\u001b[0mgroupby\u001b[0m\u001b[0;34m(\u001b[0m\u001b[0;34m\"committee_name_x\"\u001b[0m\u001b[0;34m)\u001b[0m\u001b[0;34m.\u001b[0m\u001b[0mamount\u001b[0m\u001b[0;34m.\u001b[0m\u001b[0msum\u001b[0m\u001b[0;34m(\u001b[0m\u001b[0;34m)\u001b[0m\u001b[0;34m.\u001b[0m\u001b[0mreset_index\u001b[0m\u001b[0;34m(\u001b[0m\u001b[0;34m)\u001b[0m\u001b[0;34m.\u001b[0m\u001b[0msort_values\u001b[0m\u001b[0;34m(\u001b[0m\u001b[0;34m\"amount\"\u001b[0m\u001b[0;34m,\u001b[0m \u001b[0mascending\u001b[0m\u001b[0;34m=\u001b[0m\u001b[0mFalse\u001b[0m\u001b[0;34m)\u001b[0m\u001b[0;34m\u001b[0m\u001b[0m\n\u001b[0m",
      "\u001b[0;31mNameError\u001b[0m: name 'merged' is not defined"
     ]
    }
   ],
   "source": [
    "    merged.groupby(\"committee_name_x\").amount.sum().reset_index().sort_values(\"amount\", ascending=False)"
   ]
  },
  {
   "cell_type": "code",
   "execution_count": 28,
   "metadata": {},
   "outputs": [
    {
     "ename": "NameError",
     "evalue": "name 'merged' is not defined",
     "output_type": "error",
     "traceback": [
      "\u001b[0;31m---------------------------------------------------------------------------\u001b[0m",
      "\u001b[0;31mNameError\u001b[0m                                 Traceback (most recent call last)",
      "\u001b[0;32m<ipython-input-28-3062a14f9bbc>\u001b[0m in \u001b[0;36m<module>\u001b[0;34m()\u001b[0m\n\u001b[0;32m----> 1\u001b[0;31m \u001b[0mmerged\u001b[0m\u001b[0;34m.\u001b[0m\u001b[0mgroupby\u001b[0m\u001b[0;34m(\u001b[0m\u001b[0;34m[\u001b[0m\u001b[0;34m\"contributor_firstname\"\u001b[0m\u001b[0;34m,\u001b[0m \u001b[0;34m\"contributor_lastname\"\u001b[0m\u001b[0;34m]\u001b[0m\u001b[0;34m)\u001b[0m\u001b[0;34m.\u001b[0m\u001b[0mamount\u001b[0m\u001b[0;34m.\u001b[0m\u001b[0msum\u001b[0m\u001b[0;34m(\u001b[0m\u001b[0;34m)\u001b[0m\u001b[0;34m.\u001b[0m\u001b[0mreset_index\u001b[0m\u001b[0;34m(\u001b[0m\u001b[0;34m)\u001b[0m\u001b[0;34m.\u001b[0m\u001b[0msort_values\u001b[0m\u001b[0;34m(\u001b[0m\u001b[0;34m\"amount\"\u001b[0m\u001b[0;34m,\u001b[0m \u001b[0mascending\u001b[0m\u001b[0;34m=\u001b[0m\u001b[0mFalse\u001b[0m\u001b[0;34m)\u001b[0m\u001b[0;34m\u001b[0m\u001b[0m\n\u001b[0m",
      "\u001b[0;31mNameError\u001b[0m: name 'merged' is not defined"
     ]
    }
   ],
   "source": [
    "    merged.groupby([\"contributor_firstname\", \"contributor_lastname\"]).amount.sum().reset_index().sort_values(\"amount\", ascending=False)"
   ]
  },
  {
   "cell_type": "code",
   "execution_count": 29,
   "metadata": {},
   "outputs": [
    {
     "ename": "NameError",
     "evalue": "name 'merged' is not defined",
     "output_type": "error",
     "traceback": [
      "\u001b[0;31m---------------------------------------------------------------------------\u001b[0m",
      "\u001b[0;31mNameError\u001b[0m                                 Traceback (most recent call last)",
      "\u001b[0;32m<ipython-input-29-8414b8790711>\u001b[0m in \u001b[0;36m<module>\u001b[0;34m()\u001b[0m\n\u001b[0;32m----> 1\u001b[0;31m \u001b[0mmerged\u001b[0m\u001b[0;34m.\u001b[0m\u001b[0mgroupby\u001b[0m\u001b[0;34m(\u001b[0m\u001b[0;34m[\u001b[0m\u001b[0;34m\"contributor_firstname\"\u001b[0m\u001b[0;34m,\u001b[0m \u001b[0;34m\"contributor_lastname\"\u001b[0m\u001b[0;34m,\u001b[0m \u001b[0;34m\"committee_position\"\u001b[0m\u001b[0;34m]\u001b[0m\u001b[0;34m)\u001b[0m\u001b[0;34m.\u001b[0m\u001b[0mamount\u001b[0m\u001b[0;34m.\u001b[0m\u001b[0msum\u001b[0m\u001b[0;34m(\u001b[0m\u001b[0;34m)\u001b[0m\u001b[0;34m.\u001b[0m\u001b[0mreset_index\u001b[0m\u001b[0;34m(\u001b[0m\u001b[0;34m)\u001b[0m\u001b[0;34m.\u001b[0m\u001b[0msort_values\u001b[0m\u001b[0;34m(\u001b[0m\u001b[0;34m\"amount\"\u001b[0m\u001b[0;34m,\u001b[0m \u001b[0mascending\u001b[0m\u001b[0;34m=\u001b[0m\u001b[0mFalse\u001b[0m\u001b[0;34m)\u001b[0m\u001b[0;34m\u001b[0m\u001b[0m\n\u001b[0m",
      "\u001b[0;31mNameError\u001b[0m: name 'merged' is not defined"
     ]
    }
   ],
   "source": [
    "    merged.groupby([\"contributor_firstname\", \"contributor_lastname\", \"committee_position\"]).amount.sum().reset_index().sort_values(\"amount\", ascending=False)"
   ]
  },
  {
   "cell_type": "code",
   "execution_count": null,
   "metadata": {
    "collapsed": true
   },
   "outputs": [],
   "source": []
  },
  {
   "cell_type": "code",
   "execution_count": null,
   "metadata": {
    "collapsed": true
   },
   "outputs": [],
   "source": []
  }
 ],
 "metadata": {
  "kernelspec": {
   "display_name": "Python 2",
   "language": "python",
   "name": "python2"
  },
  "language_info": {
   "codemirror_mode": {
    "name": "ipython",
    "version": 2
   },
   "file_extension": ".py",
   "mimetype": "text/x-python",
   "name": "python",
   "nbconvert_exporter": "python",
   "pygments_lexer": "ipython2",
   "version": "2.7.11"
  }
 },
 "nbformat": 4,
 "nbformat_minor": 2
}
